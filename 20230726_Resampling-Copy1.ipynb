{
 "cells": [
  {
   "cell_type": "markdown",
   "id": "f93597f4",
   "metadata": {},
   "source": [
    "## This notebook is for putting all necessary input samples (K, Q, Inst freqs) into an input array, and the necessary output samples (tau1 and tau2) into an output array for our network to read and train upon. Here we also resample the inst freqs."
   ]
  },
  {
   "cell_type": "code",
   "execution_count": 15,
   "id": "8eb998ac",
   "metadata": {},
   "outputs": [],
   "source": [
    "import numpy as np\n",
    "from scipy.signal import resample\n",
    "import matplotlib.pyplot as plt"
   ]
  },
  {
   "cell_type": "code",
   "execution_count": 32,
   "id": "69894deb",
   "metadata": {},
   "outputs": [],
   "source": [
    "ks = np.load('../20230721/20230731_ks.npy')\n",
    "qs = np.load('../20230721/20230731_qs.npy')\n",
    "tau1s = np.load('../20230721/20230731_tau1s.npy')\n",
    "tau2s = np.load('../20230721/20230731_tau2s.npy')\n",
    "instfreqs = np.load('../20230721/20230731_instfreqs.npy')"
   ]
  },
  {
   "cell_type": "code",
   "execution_count": 33,
   "id": "52d55a7f",
   "metadata": {},
   "outputs": [
    {
     "data": {
      "text/plain": [
       "(10000,)"
      ]
     },
     "execution_count": 33,
     "metadata": {},
     "output_type": "execute_result"
    }
   ],
   "source": [
    "ks.shape"
   ]
  },
  {
   "cell_type": "code",
   "execution_count": 34,
   "id": "95d2ba9c",
   "metadata": {},
   "outputs": [
    {
     "data": {
      "text/plain": [
       "(10000, 16000)"
      ]
     },
     "execution_count": 34,
     "metadata": {},
     "output_type": "execute_result"
    }
   ],
   "source": [
    "instfreqs.shape"
   ]
  },
  {
   "cell_type": "code",
   "execution_count": 35,
   "id": "af7f39a0",
   "metadata": {},
   "outputs": [],
   "source": [
    "inputs = np.empty([10000, 200])\n",
    "output_labels = np.empty([10000, 2])"
   ]
  },
  {
   "cell_type": "code",
   "execution_count": 36,
   "id": "3bb3505f",
   "metadata": {},
   "outputs": [
    {
     "data": {
      "text/plain": [
       "(10000,)"
      ]
     },
     "execution_count": 36,
     "metadata": {},
     "output_type": "execute_result"
    }
   ],
   "source": [
    "inputs[:,1].shape #:, because we want to see all of the first dimension but just that ith row (i = 1) in this case"
   ]
  },
  {
   "cell_type": "code",
   "execution_count": 37,
   "id": "173f6f53",
   "metadata": {
    "scrolled": true
   },
   "outputs": [
    {
     "data": {
      "text/plain": [
       "(200,)"
      ]
     },
     "execution_count": 37,
     "metadata": {},
     "output_type": "execute_result"
    }
   ],
   "source": [
    "inputs[1,:].shape #example first column has 10k rows"
   ]
  },
  {
   "cell_type": "code",
   "execution_count": 38,
   "id": "1630db8a",
   "metadata": {},
   "outputs": [
    {
     "data": {
      "text/plain": [
       "(10000, 16000)"
      ]
     },
     "execution_count": 38,
     "metadata": {},
     "output_type": "execute_result"
    }
   ],
   "source": [
    "instfreqs.shape"
   ]
  },
  {
   "cell_type": "code",
   "execution_count": 39,
   "id": "23a1ee04",
   "metadata": {},
   "outputs": [
    {
     "data": {
      "text/plain": [
       "(10000, 2)"
      ]
     },
     "execution_count": 39,
     "metadata": {},
     "output_type": "execute_result"
    }
   ],
   "source": [
    "output_labels.shape"
   ]
  },
  {
   "cell_type": "code",
   "execution_count": 40,
   "id": "512ce180",
   "metadata": {},
   "outputs": [
    {
     "data": {
      "text/plain": [
       "array([[23.93448063],\n",
       "       [ 7.86930308],\n",
       "       [23.7320568 ],\n",
       "       ...,\n",
       "       [27.81136498],\n",
       "       [14.71997992],\n",
       "       [12.14461677]])"
      ]
     },
     "execution_count": 40,
     "metadata": {},
     "output_type": "execute_result"
    }
   ],
   "source": [
    "tau1s"
   ]
  },
  {
   "cell_type": "code",
   "execution_count": 1,
   "id": "90c33deb",
   "metadata": {},
   "outputs": [
    {
     "ename": "NameError",
     "evalue": "name 'ks' is not defined",
     "output_type": "error",
     "traceback": [
      "\u001b[0;31m---------------------------------------------------------------------------\u001b[0m",
      "\u001b[0;31mNameError\u001b[0m                                 Traceback (most recent call last)",
      "Cell \u001b[0;32mIn[1], line 2\u001b[0m\n\u001b[1;32m      1\u001b[0m \u001b[38;5;28;01mfor\u001b[39;00m i \u001b[38;5;129;01min\u001b[39;00m \u001b[38;5;28mrange\u001b[39m(\u001b[38;5;241m10000\u001b[39m):\n\u001b[0;32m----> 2\u001b[0m     inputs[i,\u001b[38;5;241m0\u001b[39m] \u001b[38;5;241m=\u001b[39m \u001b[43mks\u001b[49m[i]\n\u001b[1;32m      3\u001b[0m     inputs[i,\u001b[38;5;241m1\u001b[39m] \u001b[38;5;241m=\u001b[39m qs[i]\n\u001b[1;32m      5\u001b[0m     resampled_freqs \u001b[38;5;241m=\u001b[39m resample(instfreqs[i,:],\u001b[38;5;241m199\u001b[39m)[\u001b[38;5;241m1\u001b[39m:] \u001b[38;5;66;03m#Resample inst freqs to have array fit NN input size\u001b[39;00m\n",
      "\u001b[0;31mNameError\u001b[0m: name 'ks' is not defined"
     ]
    }
   ],
   "source": [
    "for i in range(10000):\n",
    "    inputs[i,0] = ks[i]\n",
    "    inputs[i,1] = qs[i]\n",
    "    \n",
    "    resampled_freqs = resample(instfreqs[i,:],199)[1:] #Resample inst freqs to have array fit NN input size\n",
    "    new_freqs = np.interp(resampled_freqs, (resampled_freqs.min(), resampled_freqs.max()), (0,1)) #Normalize all inst freqs\n",
    "    inputs[i,2:] = new_freqs\n",
    "    \n",
    "    output_labels[i,0] = tau1s[i]\n",
    "    output_labels[i,1] = tau2s[i]\n",
    "    \n",
    "    "
   ]
  },
  {
   "cell_type": "code",
   "execution_count": 42,
   "id": "3da22d07",
   "metadata": {},
   "outputs": [],
   "source": [
    "#Using the inputs array as the source of data, make a histogram of the k and q values"
   ]
  },
  {
   "cell_type": "code",
   "execution_count": 43,
   "id": "cb5da32c",
   "metadata": {},
   "outputs": [
    {
     "data": {
      "text/plain": [
       "Text(0, 0.5, 'Counts')"
      ]
     },
     "execution_count": 43,
     "metadata": {},
     "output_type": "execute_result"
    },
    {
     "data": {
      "image/png": "[encoded data removed]",
      "text/plain": [
       "<Figure size 640x480 with 1 Axes>"
      ]
     },
     "metadata": {},
     "output_type": "display_data"
    }
   ],
   "source": [
    "plt.hist(inputs[:,0])\n",
    "plt.xlabel('k values (N/m)')\n",
    "plt.ylabel('Counts')"
   ]
  },
  {
   "cell_type": "code",
   "execution_count": 44,
   "id": "b2488a44",
   "metadata": {
    "scrolled": true
   },
   "outputs": [
    {
     "data": {
      "text/plain": [
       "Text(0, 0.5, 'Counts')"
      ]
     },
     "execution_count": 44,
     "metadata": {},
     "output_type": "execute_result"
    },
    {
     "data": {
      "image/png": "[encoded data removed]",
      "text/plain": [
       "<Figure size 640x480 with 1 Axes>"
      ]
     },
     "metadata": {},
     "output_type": "display_data"
    }
   ],
   "source": [
    "plt.hist(inputs[:,1])\n",
    "plt.xlabel('Q values')\n",
    "plt.ylabel('Counts')"
   ]
  },
  {
   "cell_type": "code",
   "execution_count": 45,
   "id": "9efb2244",
   "metadata": {},
   "outputs": [],
   "source": [
    "np.save('input_array.npy',inputs)\n",
    "np.save('output_array.npy',output_labels)"
   ]
  },
  {
   "cell_type": "code",
   "execution_count": null,
   "id": "ec29ff11",
   "metadata": {},
   "outputs": [],
   "source": []
  }
 ],
 "metadata": {
  "kernelspec": {
   "display_name": "Python 3 (ipykernel)",
   "language": "python",
   "name": "python3"
  },
  "language_info": {
   "codemirror_mode": {
    "name": "ipython",
    "version": 3
   },
   "file_extension": ".py",
   "mimetype": "text/x-python",
   "name": "python",
   "nbconvert_exporter": "python",
   "pygments_lexer": "ipython3",
   "version": "3.10.11"
  }
 },
 "nbformat": 4,
 "nbformat_minor": 5
}
