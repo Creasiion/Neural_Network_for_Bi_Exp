{
 "cells": [
  {
   "cell_type": "markdown",
   "id": "f5a8dc83",
   "metadata": {},
   "source": [
    "## This code is used to create all the samples used for our Bi Exponential Neural Network! Once all samples are created, DO RESAMPLING NOTEBOOK FIRST, and then use files from resampling for training the Network!"
   ]
  },
  {
   "cell_type": "code",
   "execution_count": 1,
   "id": "ce0d72b4",
   "metadata": {},
   "outputs": [
    {
     "name": "stderr",
     "output_type": "stream",
     "text": [
      "c:\\users\\mdbre\\ffta\\ffta\\pixel_utils\\parab.py:8: UserWarning: cuPy not installed; no GPU available\n",
      "  warnings.warn('cuPy not installed; no GPU available')\n"
     ]
    }
   ],
   "source": [
    "import numpy as np\n",
    "import matplotlib.pyplot as plt\n",
    "import ffta\n",
    "import seaborn as sns\n",
    "from scipy.signal import resample \n",
    "from ffta.simulation.mechanical_drive import MechanicalDrive\n",
    "from ffta.simulation.utils import excitation"
   ]
  },
  {
   "cell_type": "code",
   "execution_count": 2,
   "id": "9701b7d8",
   "metadata": {},
   "outputs": [],
   "source": [
    "can_params = {'amp_invols': 5e-08,\n",
    "                 'def_invols': 5e-08,\n",
    "                 'soft_amp': 1.0,\n",
    "                 'drive_freq': 300000.0,\n",
    "                 'res_freq': 300000.0,\n",
    "                 'k':20,\n",
    "                 'q_factor': 420}\n",
    "    \n",
    "force_params = {'es_force': 5e-09,\n",
    "                 'delta_freq': -30,\n",
    "                 'tau': [1e-6]}\n",
    "    \n",
    "sim_params = {'trigger': 0.0004,\n",
    "                 'total_time': 0.002,\n",
    "                 'sampling_rate': 10000000.0}"
   ]
  },
  {
   "cell_type": "code",
   "execution_count": 3,
   "id": "147215be",
   "metadata": {},
   "outputs": [],
   "source": [
    "def add_noise(Z, snr): #Signal-to-noise ratio. Z stands for signal (cantilever deflection)\n",
    "    sig_avg_power = np.mean(Z**2)\n",
    "    sig_avg_db = 10*np.log10(sig_avg_power)\n",
    "    noise_avg_db = sig_avg_db - snr\n",
    "    noise_avg_power = 10**(noise_avg_db/10)\n",
    "    noise = np.random.normal(0,np.sqrt(noise_avg_power),len(Z))\n",
    "    noisy_signal = Z + noise\n",
    "    return noisy_signal"
   ]
  },
  {
   "cell_type": "code",
   "execution_count": 4,
   "id": "a271b804",
   "metadata": {},
   "outputs": [],
   "source": [
    "import datetime"
   ]
  },
  {
   "cell_type": "code",
   "execution_count": 5,
   "id": "02444cc5",
   "metadata": {},
   "outputs": [],
   "source": [
    "ffts = [60e-6, 70e-6]\n",
    "drive_freq = []\n",
    "ks = []\n",
    "qs = []\n",
    "tau1s = []\n",
    "tau2s = []\n",
    "tfps = []\n",
    "shifts = []\n",
    "inst_freqs = []\n",
    "\n",
    "for i in range(10000):\n",
    "    k = np.round(np.random.uniform(20,25),1) #K ranges are 20-25\n",
    "    q = np.round(np.random.uniform(400,450),1) #Q ranges are 400-450\n",
    "    tau1_base = np.random.uniform(1,50,1) #tau1 ranges are 1-100e-6\n",
    "    tau1 = tau1_base/1e6\n",
    "    tau2_base = np.random.uniform(100,500,1) #tau2 ranges are 50-500e-6\n",
    "    tau2 = tau2_base/1e6\n",
    "    ks.append(k)\n",
    "    qs.append(q)\n",
    "    tau1s.append(tau1_base)\n",
    "    tau2s.append(tau2_base)\n",
    "    can_params = {'amp_invols': 5e-08,\n",
    "                 'def_invols': 5e-08,\n",
    "                 'soft_amp': 1.0,\n",
    "                 'drive_freq': 300000,\n",
    "                 'res_freq': 300000,\n",
    "                 'k':k,\n",
    "                 'q_factor': q}\n",
    "    \n",
    "    force_params = {'es_force': 5e-09,\n",
    "                 'delta_freq': -30,\n",
    "                 'tau': [1e-6]}\n",
    "    \n",
    "    sim_params = {'trigger': 0.0004,\n",
    "                 'total_time': 0.002,\n",
    "                 'sampling_rate': 10000000.0}\n",
    "    \n",
    "    cant = MechanicalDrive(can_params, force_params, sim_params, func=excitation.bi_exp, func_args = [float(tau1), float(tau2)])\n",
    "    \n",
    "    Z, info = cant.simulate()\n",
    "    Z_corr = Z / cant.amp_invols\n",
    "    \n",
    "    Z_noisy = add_noise(Z_corr, 60)\n",
    "    \n",
    "    fft_ind = np.random.randint(0,2)\n",
    "    fft_res = ffts[fft_ind]\n",
    "    \n",
    "    pix = ffta.pixel.Pixel(Z_noisy, method='stft',trigger=0.0004,total_time=0.002, roi=1e-3)\n",
    "    pix.fft_time_res = fft_res\n",
    "    _ = pix.analyze()\n",
    "    \n",
    "    tfps.append(pix.tfp)\n",
    "    shifts.append(pix.shift)\n",
    "    inst_freqs.append(pix.inst_freq[int(0.5*0.0004*1e7):int(0.9*20000)])\n",
    "    \n",
    "\n",
    "    if ((i+1)%100) == 0:\n",
    "        date = datetime.date.today().strftime(\"%Y%m%d\")\n",
    "        np.save(date+'_ks.npy', ks)\n",
    "        np.save(date+'_qs.npy', qs)\n",
    "        np.save(date+'_tau1s.npy',tau1s)\n",
    "        np.save(date+'_tau2s.npy',tau2s)\n",
    "        np.save(date+'_tfps.npy', tfps)\n",
    "        np.save(date+'_shifts.npy', shifts)\n",
    "        np.save(date+'_instfreqs.npy',inst_freqs)\n",
    "        np.save(date+'_drive_freqs.npy', drive_freq)"
   ]
  },
  {
   "cell_type": "code",
   "execution_count": null,
   "id": "813796e6",
   "metadata": {},
   "outputs": [],
   "source": []
  }
 ],
 "metadata": {
  "kernelspec": {
   "display_name": "Python 3 (ipykernel)",
   "language": "python",
   "name": "python3"
  },
  "language_info": {
   "codemirror_mode": {
    "name": "ipython",
    "version": 3
   },
   "file_extension": ".py",
   "mimetype": "text/x-python",
   "name": "python",
   "nbconvert_exporter": "python",
   "pygments_lexer": "ipython3",
   "version": "3.10.11"
  }
 },
 "nbformat": 4,
 "nbformat_minor": 5
}
